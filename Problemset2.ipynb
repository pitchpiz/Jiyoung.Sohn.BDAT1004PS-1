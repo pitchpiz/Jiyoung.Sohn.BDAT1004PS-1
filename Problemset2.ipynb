{
 "cells": [
  {
   "cell_type": "markdown",
   "metadata": {},
   "source": [
    "# Problem Set 2"
   ]
  },
  {
   "cell_type": "markdown",
   "metadata": {},
   "source": [
    "### Question 1"
   ]
  },
  {
   "cell_type": "code",
   "execution_count": null,
   "metadata": {},
   "outputs": [],
   "source": [
    "a=0\n",
    "\n",
    "def b():\n",
    "    global a\n",
    "    a=c(a)\n",
    "    \n",
    "def c(a):\n",
    "    return a+2\n",
    "\n",
    "b()\n",
    "b()\n",
    "b()\n",
    "a"
   ]
  },
  {
   "cell_type": "markdown",
   "metadata": {},
   "source": [
    "- Question : What value is displayed when the last expression (a) is evaluated? \n",
    "- Answer : 6\n",
    "\n",
    "- Question : Explain your answer by indicating what happens in every executed statement.\n",
    "- Answer : \n",
    "  1. Excution of 1st b() :\n",
    "     \n",
    "      a=0              1. a is global scope, a is 0 now\n",
    "      \n",
    "      def b():           \n",
    "          global a     2. all references to a in b() are to the global a\n",
    "          a=c(a)       3. a is 0 and call c(0)  ->  5.after call c(0), a is 2\n",
    "    \n",
    "      def c(a):\n",
    "          return a+2   4. a is 0 and return 2\n",
    "          \n",
    "  2. Excution of 2nd b() : \n",
    "          \n",
    "      def b():           \n",
    "          global a     \n",
    "          a=c(a)       1. a is 2 and call c(2)  ->  3.after call c(2), a is 4\n",
    "    \n",
    "      def c(a):\n",
    "          return a+2   2. a is 2 and return 4\n",
    "          \n",
    "  3. Excution of 3rd b() : \n",
    "          \n",
    "      def b():           \n",
    "          global a     \n",
    "          a=c(a)       1. a is 4 and call c(4)  ->  3.after call c(4), a is 6\n",
    "    \n",
    "      def c(a):\n",
    "          return a+2   2. a is 4 and return 6"
   ]
  },
  {
   "cell_type": "markdown",
   "metadata": {},
   "source": [
    "### Question 2"
   ]
  },
  {
   "cell_type": "code",
   "execution_count": 26,
   "metadata": {},
   "outputs": [
    {
     "name": "stdout",
     "output_type": "stream",
     "text": [
      "File idterm.py not found.\n"
     ]
    }
   ],
   "source": [
    "def file_length(file_name):\n",
    "    \n",
    "    try:\n",
    "        file = open(file_name)\n",
    "        contents = file.read()\n",
    "        file.close()\n",
    "        print(len(contents))\n",
    "    except:\n",
    "        print('File idterm.py not found.')\n",
    "        \n",
    "        \n",
    "file_length('HelloJava1.java')\n"
   ]
  },
  {
   "cell_type": "markdown",
   "metadata": {},
   "source": [
    "### Question 3"
   ]
  },
  {
   "cell_type": "code",
   "execution_count": 131,
   "metadata": {},
   "outputs": [],
   "source": []
  },
  {
   "cell_type": "markdown",
   "metadata": {},
   "source": [
    "### Question 4"
   ]
  },
  {
   "cell_type": "code",
   "execution_count": null,
   "metadata": {},
   "outputs": [],
   "source": [
    "from tkinter import *\n",
    "\n",
    "\n",
    "root = Tk()\n",
    "\n",
    "calculator  = Frame(root)\n",
    "calculator.pack(side=RIGHT)\n",
    "\n",
    "#dateEnt = Entry(calculator)\n",
    "#dateEnt.grid()\n",
    "\n",
    "labels = [['MC', 'M+', 'M-','MR'],   \n",
    "          ['C ', 'V ', 'X2','+ '],\n",
    "          ['7 ', '8 ', '9 ','- '],\n",
    "          ['4 ', '5 ', '6 ','* '], \n",
    "          ['1 ', '2 ', '3 ','/ '],\n",
    "          ['0 ','. ','+-','= ']\n",
    "       ]\n",
    "\n",
    "for r in range(6):\n",
    "    for c in range(4):\n",
    "        # create label for row r and column c\n",
    "        label = Label(calculator,\n",
    "                      relief=RAISED,      \n",
    "                      padx=10,            \n",
    "                      text=labels[r][c])\n",
    "        # place label in row r and column c\n",
    "        label.grid(row=r, column=c)\n",
    "\n",
    "\n",
    "mortgage  = Frame(root)\n",
    "mortgage.pack(side=LEFT)\n",
    "label = Label(mortgage, text='Loan Amount:')\n",
    "label.grid(row=1, column=0)\n",
    "\n",
    "label1 = Label(mortgage, text='Interest rate:')\n",
    "label1.grid(row=2, column=0)\n",
    "\n",
    "label2 = Label(mortgage, text='Loan terms:')\n",
    "label2.grid(row=3, column=0)\n",
    "\n",
    "\n",
    "dateEnt = Entry(mortgage)\n",
    "dateEnt.grid(row=1, column=1)\n",
    "dateEnt1 = Entry(mortgage)\n",
    "dateEnt1.grid(row=2, column=1)\n",
    "dateEnt2 = Entry(mortgage)\n",
    "dateEnt2.grid(row=3, column=1)\n",
    "\n",
    "button = Button(mortgage, text='Compute mortgage') \n",
    "button.grid(row=4, column=0, columnspan=2)\n",
    "\n",
    "root.mainloop()\n"
   ]
  },
  {
   "cell_type": "markdown",
   "metadata": {},
   "source": [
    "### Question 5"
   ]
  },
  {
   "cell_type": "code",
   "execution_count": 85,
   "metadata": {},
   "outputs": [
    {
     "name": "stdout",
     "output_type": "stream",
     "text": [
      "10\n",
      "5\n",
      "16\n",
      "8\n",
      "4\n",
      "2\n",
      "1\n"
     ]
    }
   ],
   "source": [
    "def collatz(x):\n",
    "    if x < 0:\n",
    "        print(\"Please input positive integer\")\n",
    "    \n",
    "    if x < 2:\n",
    "        print(int(x))\n",
    "    else:\n",
    "        print(int(x))\n",
    "        if x % 2 == 0:\n",
    "            collatz(int(x/2))\n",
    "        else:\n",
    "            collatz(int(3*x+1))\n",
    "\n",
    "collatz(10)"
   ]
  },
  {
   "cell_type": "markdown",
   "metadata": {},
   "source": [
    "### Question 6"
   ]
  },
  {
   "cell_type": "code",
   "execution_count": 80,
   "metadata": {},
   "outputs": [
    {
     "data": {
      "text/plain": [
       "'1001'"
      ]
     },
     "execution_count": 80,
     "metadata": {},
     "output_type": "execute_result"
    }
   ],
   "source": [
    "def binary(n):\n",
    "    if n < 0:\n",
    "        print(\"Please input positive integer\")\n",
    "        \n",
    "    if n < 2:\n",
    "        return n\n",
    "    else:\n",
    "        return  str(binary(n // 2)) + str(n % 2)\n",
    "\n",
    "\n",
    "binary(9)"
   ]
  },
  {
   "cell_type": "markdown",
   "metadata": {},
   "source": [
    "### Question 7"
   ]
  },
  {
   "cell_type": "code",
   "execution_count": 32,
   "metadata": {},
   "outputs": [
    {
     "ename": "IndentationError",
     "evalue": "unexpected indent (<ipython-input-32-2230ff1fea15>, line 8)",
     "output_type": "error",
     "traceback": [
      "\u001b[1;36m  File \u001b[1;32m\"<ipython-input-32-2230ff1fea15>\"\u001b[1;36m, line \u001b[1;32m8\u001b[0m\n\u001b[1;33m    HTMLParser.__init__(self)\u001b[0m\n\u001b[1;37m    ^\u001b[0m\n\u001b[1;31mIndentationError\u001b[0m\u001b[1;31m:\u001b[0m unexpected indent\n"
     ]
    }
   ],
   "source": [
    "from html.parser import HTMLParser\n",
    "\n",
    "class HeadingParser(HTMLParser):\n",
    "   \n",
    "    \n",
    "    def __init__(self):\n",
    "       'initializes the parser and the initial indentation'\n",
    "        HTMLParser.__init__(self)\n",
    "        self.indent = 0            # initial indentation value\n",
    "\n",
    "\n",
    "    def handle_starttag(self, tag, attrs):\n",
    "         if tag == 'HEAD':\n",
    "            for attr in attrs:\n",
    "                  print('{}{} start'.format(self.indent*' ', attr))\n",
    "\n",
    "\n",
    "\n",
    "infile = open('w3c.html') \n",
    "content = infile.read() \n",
    "infile.close() \n",
    "hp = HeadingParser() \n",
    "hp.feed(content) \n"
   ]
  },
  {
   "cell_type": "markdown",
   "metadata": {},
   "source": [
    "### Question 8"
   ]
  },
  {
   "cell_type": "code",
   "execution_count": 34,
   "metadata": {},
   "outputs": [
    {
     "ename": "IndentationError",
     "evalue": "unindent does not match any outer indentation level (<tokenize>, line 22)",
     "output_type": "error",
     "traceback": [
      "\u001b[1;36m  File \u001b[1;32m\"<tokenize>\"\u001b[1;36m, line \u001b[1;32m22\u001b[0m\n\u001b[1;33m    def getLinks(self):\u001b[0m\n\u001b[1;37m    ^\u001b[0m\n\u001b[1;31mIndentationError\u001b[0m\u001b[1;31m:\u001b[0m unindent does not match any outer indentation level\n"
     ]
    }
   ],
   "source": [
    "from urllib.parse import urljoin\n",
    "from html.parser import HTMLParser\n",
    "class Collector(HTMLParser):\n",
    "    'collects hyperlink URLs into a list'\n",
    "\n",
    "    def __init__(self, url):\n",
    "        'initializes parser, the url, and a list'\n",
    "        HTMLParser.__init__(self)\n",
    "        self.url = url\n",
    "        self.links = []\n",
    "\n",
    "def handle_starttag(self, tag, attrs):\n",
    "        'collects hyperlink URLs in their absolute format'\n",
    "        if tag == 'a':\n",
    "            for attr in attrs:\n",
    "                if attr[0] == 'href':\n",
    "                    # construct absolute URL\n",
    "                    absolute = urljoin(self.url, attr[1])\n",
    "                    if absolute[:4] == 'http': # collect HTTP URLs\n",
    "                        self.links.append(absolute)\n",
    "                        \n",
    "    def getLinks(self):\n",
    "        'returns hyperlinks URLs in their absolute format'\n",
    "        return self.links\n"
   ]
  },
  {
   "cell_type": "markdown",
   "metadata": {},
   "source": [
    "### Question 9"
   ]
  },
  {
   "cell_type": "markdown",
   "metadata": {},
   "source": [
    "#####  table name is \"weather\"\n",
    "\n",
    "- a) select * from weather\n",
    "- b) select distinct city from weather\n",
    "- c) select * from weather where country = 'India'\n",
    "- d) select * from weather where season = 'Fall'\n",
    "- e) select city, country, season \n",
    "     from weather\n",
    "     where rainfall between 200 and 4000\n",
    "- f) select city, country \n",
    "     from weather\n",
    "     where temperature > 20\n",
    "     and season = 'Fall'\n",
    "     order by temperature\n",
    "- g) select sum(rainfall)\n",
    "     from weather\n",
    "     where city = 'Cario'\n",
    "- h) select season, sum(rainfall)\n",
    "     from weather\n",
    "     group by season\n"
   ]
  },
  {
   "cell_type": "markdown",
   "metadata": {},
   "source": [
    "### Question 10"
   ]
  },
  {
   "cell_type": "code",
   "execution_count": 39,
   "metadata": {},
   "outputs": [
    {
     "name": "stdout",
     "output_type": "stream",
     "text": [
      "['THE', 'QUICK', 'BROWN', 'FOX', 'JUMPS', 'OVER', 'THE', 'LAZY', 'DOG']\n",
      "['the', 'quick', 'brown', 'fox', 'jumps', 'over', 'the', 'lazy', 'dog']\n",
      "[3, 5, 5, 3, 5, 4, 3, 4, 3]\n"
     ]
    }
   ],
   "source": [
    "words = ['The', 'quick', 'brown', 'fox', 'jumps', 'over', 'the', 'lazy', 'dog']\n",
    "newwords_a = [word.upper() for word in words]\n",
    "newwords_b = [word.lower() for word in words]\n",
    "newwords_c = [len(word) for word in words]\n",
    "\n",
    "\n",
    "print(newwords_a)\n",
    "print(newwords_b)\n",
    "print(newwords_c)"
   ]
  }
 ],
 "metadata": {
  "kernelspec": {
   "display_name": "Python 3",
   "language": "python",
   "name": "python3"
  },
  "language_info": {
   "codemirror_mode": {
    "name": "ipython",
    "version": 3
   },
   "file_extension": ".py",
   "mimetype": "text/x-python",
   "name": "python",
   "nbconvert_exporter": "python",
   "pygments_lexer": "ipython3",
   "version": "3.8.3"
  }
 },
 "nbformat": 4,
 "nbformat_minor": 4
}
