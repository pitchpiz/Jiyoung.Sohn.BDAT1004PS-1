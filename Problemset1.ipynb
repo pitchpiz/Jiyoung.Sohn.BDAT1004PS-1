{
 "cells": [
  {
   "cell_type": "markdown",
   "metadata": {},
   "source": [
    "# Problem Set 1"
   ]
  },
  {
   "cell_type": "markdown",
   "metadata": {},
   "source": [
    "### Question 1"
   ]
  },
  {
   "cell_type": "markdown",
   "metadata": {},
   "source": [
    "- 5   : integer\n",
    "- 5.0 : float\n",
    "- 5 > 1 : boolean\n",
    "- '5' : sting\n",
    "- 5 * 2 : integer\n",
    "- '5' + '2' : sting\n",
    "- 5 / 2 : float\n",
    "- 5 // 2 : integer\n",
    "- [5, 2, 1] : list\n",
    "- 5 in [1, 4, 6] : boolean\n",
    "- math.pi : float"
   ]
  },
  {
   "cell_type": "markdown",
   "metadata": {},
   "source": [
    "### Question 2"
   ]
  },
  {
   "cell_type": "markdown",
   "metadata": {},
   "source": [
    "- a : 34 letters"
   ]
  },
  {
   "cell_type": "code",
   "execution_count": 24,
   "metadata": {},
   "outputs": [
    {
     "data": {
      "text/plain": [
       "34"
      ]
     },
     "execution_count": 24,
     "metadata": {},
     "output_type": "execute_result"
    }
   ],
   "source": [
    "len('Supercalifragilisticexpialidocious')"
   ]
  },
  {
   "cell_type": "markdown",
   "metadata": {},
   "source": [
    "- b : Yes"
   ]
  },
  {
   "cell_type": "code",
   "execution_count": 25,
   "metadata": {},
   "outputs": [
    {
     "data": {
      "text/plain": [
       "True"
      ]
     },
     "execution_count": 25,
     "metadata": {},
     "output_type": "execute_result"
    }
   ],
   "source": [
    "'ice' in 'Supercalifragilisticexpialidocious'"
   ]
  },
  {
   "cell_type": "markdown",
   "metadata": {},
   "source": [
    "- c : 'Supercalifragilisticexpialidocious' and 'Bababadalgharaghtakamminarronnkonn' are longest."
   ]
  },
  {
   "cell_type": "code",
   "execution_count": 43,
   "metadata": {},
   "outputs": [
    {
     "data": {
      "text/plain": [
       "34"
      ]
     },
     "execution_count": 43,
     "metadata": {},
     "output_type": "execute_result"
    }
   ],
   "source": [
    "len('Supercalifragilisticexpialidocious')"
   ]
  },
  {
   "cell_type": "code",
   "execution_count": 41,
   "metadata": {},
   "outputs": [
    {
     "data": {
      "text/plain": [
       "27"
      ]
     },
     "execution_count": 41,
     "metadata": {},
     "output_type": "execute_result"
    }
   ],
   "source": [
    "len('Honorificabilitudinitatibus')"
   ]
  },
  {
   "cell_type": "code",
   "execution_count": 44,
   "metadata": {},
   "outputs": [
    {
     "data": {
      "text/plain": [
       "34"
      ]
     },
     "execution_count": 44,
     "metadata": {},
     "output_type": "execute_result"
    }
   ],
   "source": [
    "len('Bababadalgharaghtakamminarronnkonn')"
   ]
  },
  {
   "cell_type": "markdown",
   "metadata": {},
   "source": [
    "- d : first - Berlioz/ last - Bernstein"
   ]
  },
  {
   "cell_type": "code",
   "execution_count": 119,
   "metadata": {},
   "outputs": [
    {
     "name": "stdout",
     "output_type": "stream",
     "text": [
      "dict_keys(['Berlioz', 'Borodin', 'Brian', 'Bartok', 'Bellini', 'Buxtehude', 'Bernstein'])\n"
     ]
    }
   ],
   "source": [
    "composer = {'Berlioz':1, 'Borodin':2, 'Brian':3, 'Bartok':4, 'Bellini':5, 'Buxtehude':6, 'Bernstein':7 }\n",
    "order = composer.keys()\n",
    "print(order)"
   ]
  },
  {
   "cell_type": "markdown",
   "metadata": {},
   "source": [
    "### Question 3"
   ]
  },
  {
   "cell_type": "markdown",
   "metadata": {},
   "source": [
    "- a "
   ]
  },
  {
   "cell_type": "code",
   "execution_count": 82,
   "metadata": {},
   "outputs": [
    {
     "name": "stdout",
     "output_type": "stream",
     "text": [
      "True\n",
      "False\n"
     ]
    }
   ],
   "source": [
    "# define function inside\n",
    "def inside(x, y, x1, y1, x2, y2):\n",
    "    #check if x,y is inside the rectangle\n",
    "   if(x>x1 and x<x2 and  y>y1 and y<y2):\n",
    "        return 'True' \n",
    "   else :\n",
    "        return 'False'\n",
    "\n",
    "# run function and check the results\n",
    "print(inside(1,1,0,0,2,3))\n",
    "print(inside(-1,-1,0,0,2,3))"
   ]
  },
  {
   "cell_type": "markdown",
   "metadata": {},
   "source": [
    "- b"
   ]
  },
  {
   "cell_type": "code",
   "execution_count": 110,
   "metadata": {},
   "outputs": [
    {
     "name": "stdout",
     "output_type": "stream",
     "text": [
      "outside\n"
     ]
    }
   ],
   "source": [
    "if ((inside(1,1,0.3,0.5,1.1,0.7) == 'True') and (inside(1,1,0.5,0.2,1.1,2) == 'True')):\n",
    "    print('inside')\n",
    "else :\n",
    "     print('outside')"
   ]
  },
  {
   "cell_type": "markdown",
   "metadata": {},
   "source": [
    "### Question 4"
   ]
  },
  {
   "cell_type": "code",
   "execution_count": 7,
   "metadata": {},
   "outputs": [
    {
     "name": "stdout",
     "output_type": "stream",
     "text": [
      "appyhay\n",
      "encilpay\n",
      "enterway\n",
      "otherway\n"
     ]
    }
   ],
   "source": [
    "# define function pig\n",
    "def pig(word) :\n",
    "    #if first character is vowel\n",
    "    if word[0:1].lower() in ('a','e','i','o','u'):\n",
    "       print(word.lower() + 'way')\n",
    "    #if first character is consonant\n",
    "    else :\n",
    "       print(word[1:].lower() + word[0].lower() + 'ay')\n",
    "\n",
    "\n",
    "# run function and check the results\n",
    "pig('happy')\n",
    "pig('pencil')\n",
    "pig('Enter')\n",
    "pig('other')"
   ]
  },
  {
   "cell_type": "markdown",
   "metadata": {},
   "source": [
    "### Question 5"
   ]
  },
  {
   "cell_type": "code",
   "execution_count": 161,
   "metadata": {},
   "outputs": [
    {
     "name": "stdout",
     "output_type": "stream",
     "text": [
      "There are 13 patients of blood type AB .\n",
      "There is one patient of blood type B .\n",
      "There are 15 patients of blood type O .\n",
      "There are 15 patients of blood type A .\n"
     ]
    }
   ],
   "source": [
    "# define function bldcount\n",
    "def bldcount(file) :\n",
    "\n",
    "    infile = open(file)  # open the text file\n",
    "    line = infile.read() # read the line        \n",
    "    bldList = line.split() # split line inth a list of words\n",
    "\n",
    "    counters = {} # define dictionary\n",
    "    \n",
    "    #count the blood type\n",
    "    for bldItem in bldList:\n",
    "        if bldItem in counters:\n",
    "            counters[bldItem] += 1\n",
    "        else :\n",
    "             counters[bldItem] = 1\n",
    "\n",
    "    #formatting the print              \n",
    "    for bldItem in counters:\n",
    "        if  counters[bldItem] == 1:\n",
    "            print('There is one patient of blood type {} .'.format(bldItem))\n",
    "        else :\n",
    "            print('There are {:2} patients of blood type {} .'.format(counters[bldItem], bldItem))\n",
    "\n",
    "            \n",
    "\n",
    "# run function and check the results\n",
    "bldcount('bloodtype1.txt')\n"
   ]
  },
  {
   "cell_type": "markdown",
   "metadata": {},
   "source": [
    "### Question 6 (not completed)"
   ]
  },
  {
   "cell_type": "code",
   "execution_count": 26,
   "metadata": {},
   "outputs": [
    {
     "name": "stdout",
     "output_type": "stream",
     "text": [
      "Dollar\n"
     ]
    }
   ],
   "source": [
    "#### define function curconv\n",
    "def curconv(currency, amount) :\n",
    "\n",
    "\n",
    "    infile = open('currencies.txt', 'r')  # open the text file\n",
    "    lines = infile.readline() # read the line     \n",
    "    \n",
    "    cur = []\n",
    "    rate = []\n",
    "    \n",
    "    cur =  lines.split()\n",
    "    \n",
    "        \n",
    "#check the result\n",
    "curconv('JPY', 100)\n"
   ]
  },
  {
   "cell_type": "markdown",
   "metadata": {},
   "source": [
    "### Question 7"
   ]
  },
  {
   "cell_type": "markdown",
   "metadata": {},
   "source": [
    "1. Trying to add incompatible variables, as in adding 6 + ‘a’\n",
    "     #### TypeError"
   ]
  },
  {
   "cell_type": "markdown",
   "metadata": {},
   "source": [
    "2. Referring to the 12th item of a list that has only 10 items \n",
    "    #### IdexError"
   ]
  },
  {
   "cell_type": "markdown",
   "metadata": {},
   "source": [
    "3. Using a value that is out of range for a function’s input, such as calling math.sqrt(-1.0)\n",
    "    #### TypeError"
   ]
  },
  {
   "cell_type": "markdown",
   "metadata": {},
   "source": [
    "4. Using an undeclared variable, such as print(x) when x has not been defined\n",
    "    #### NameError"
   ]
  },
  {
   "cell_type": "markdown",
   "metadata": {},
   "source": [
    "5. Trying to open a file that does not exist, such as mistyping the file name or looking in the wrong directory.\n",
    "    #### FileNotFoundError"
   ]
  },
  {
   "cell_type": "markdown",
   "metadata": {},
   "source": [
    "### Question 8"
   ]
  },
  {
   "cell_type": "code",
   "execution_count": 96,
   "metadata": {
    "scrolled": true
   },
   "outputs": [
    {
     "name": "stdout",
     "output_type": "stream",
     "text": [
      "dict_values([1, 1, 1, 3, 5, 1, 1, 2, 1, 0, 1, 0, 1, 2, 4, 0, 1, 2, 0, 2, 1, 0, 1, 1, 0, 0, 0, 0, 0])\n",
      "dict_values([1, 0, 0, 0, 1, 0, 0, 0, 0, 0, 0, 1, 0, 0, 0, 2, 0, 0, 0, 0, 0, 0, 0, 0, 0, 0])\n"
     ]
    }
   ],
   "source": [
    "# define function frequencies\n",
    "def frequencies(inputString):\n",
    "    letters = 'abcdefghijklmnopqrstuvwxyz'\n",
    "\n",
    "    chars = list(inputString)\n",
    "    counters = {}\n",
    "    \n",
    "    for i in range(97,123): # lowercase range\n",
    "        c = (chr(i)) # character\n",
    "        counters[c] = 0 \n",
    "\n",
    "    for c in chars:  \n",
    "        if c in letters: \n",
    "             counters[c] += 1 \n",
    "        else: \n",
    "             counters[c] = 0\n",
    "    \n",
    "    return counters.values()\n",
    "    \n",
    "\n",
    "# run function and check the results\n",
    "print(frequencies('The quick red fox got bored and went home.')) \n",
    "print(frequencies('apple'))\n",
    "               "
   ]
  },
  {
   "cell_type": "markdown",
   "metadata": {},
   "source": [
    "### Question 9"
   ]
  },
  {
   "cell_type": "code",
   "execution_count": 107,
   "metadata": {},
   "outputs": [
    {
     "name": "stdout",
     "output_type": "stream",
     "text": [
      "[2, 3, 5, 7, 11, 13, 17, 19, 23, 29, 31, 37, 41, 43, 47, 53]\n",
      "None\n",
      "[2, 3, 5, 7, 11, 13, 17, 19, 23, 29, 31, 37, 41, 43, 47, 53, 59, 61, 67, 71, 73, 79, 83, 89, 97, 101, 103, 107, 109, 113, 127, 131, 137, 139, 149, 151, 157, 163, 167, 173, 179, 181, 191, 193, 197, 199, 211, 223, 227, 229, 233, 239, 241, 251, 257, 263, 269, 271, 277, 281, 283, 293, 307, 311, 313, 317, 331, 337, 347, 349, 353, 359, 367]\n",
      "None\n",
      "[2, 3, 5, 7, 11, 13, 17, 19, 23, 29, 31]\n",
      "None\n"
     ]
    }
   ],
   "source": [
    "# define function sieve\n",
    "import math\n",
    "\n",
    "def sieve(number):\n",
    "\n",
    "    primes = []\n",
    "    for i in range(2,number+1):\n",
    "        primes.append(i)\n",
    "\n",
    "    i = 2\n",
    "    #from 2 to sqrt(number)\n",
    "    while(i <= int(math.sqrt(number))):\n",
    "        #if i is in list\n",
    "        #then we gotta delete its multiples\n",
    "        if i in primes:\n",
    "            #j will give multiples of i,\n",
    "            #starting from 2*i\n",
    "            for j in range(i*2, number+1, i):\n",
    "                if j in primes:\n",
    "                    #deleting the multiple if found in list\n",
    "                    primes.remove(j)\n",
    "        i = i+1\n",
    "\n",
    "    print (primes)\n",
    "    \n",
    "# run function and check the results\n",
    "print(sieve(56))\n",
    "print(sieve(368))\n",
    "print(sieve(32))"
   ]
  },
  {
   "cell_type": "markdown",
   "metadata": {},
   "source": [
    "### Question 10"
   ]
  },
  {
   "cell_type": "code",
   "execution_count": 109,
   "metadata": {},
   "outputs": [
    {
     "name": "stdout",
     "output_type": "stream",
     "text": [
      "1.7320508075688772\n"
     ]
    }
   ],
   "source": [
    "# define function triangleArea\n",
    "def triangleArea(a, b, c):\n",
    "   s = (a+b+c)/2\n",
    "   return (s*(s-a)*(s-b)*(s-c)) ** 0.5\n",
    "\n",
    "# run function and check the results\n",
    "print(triangleArea(2, 2, 2))"
   ]
  }
 ],
 "metadata": {
  "kernelspec": {
   "display_name": "Python 3",
   "language": "python",
   "name": "python3"
  },
  "language_info": {
   "codemirror_mode": {
    "name": "ipython",
    "version": 3
   },
   "file_extension": ".py",
   "mimetype": "text/x-python",
   "name": "python",
   "nbconvert_exporter": "python",
   "pygments_lexer": "ipython3",
   "version": "3.8.3"
  }
 },
 "nbformat": 4,
 "nbformat_minor": 4
}
